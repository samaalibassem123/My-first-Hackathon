{
 "cells": [
  {
   "cell_type": "code",
   "execution_count": 10,
   "id": "b93294b8-afea-49fa-8694-25b2194102a5",
   "metadata": {},
   "outputs": [],
   "source": [
    "# libraries to import \n",
    "import pandas as pd\n",
    "import numpy as np\n",
    "import matplotlib.pyplot as plt\n",
    "from sklearn.model_selection import train_test_split"
   ]
  },
  {
   "cell_type": "markdown",
   "id": "d1f5d910-009b-4a68-b9cc-2672e7585f9a",
   "metadata": {},
   "source": [
    "# Business Understanding\n",
    "\n",
    "\n",
    "## Business Understanding  \n",
    "\n",
    "Predicting oil prices in China is a crucial task for businesses, policymakers, and investors, as oil is a key driver of economic activity and industrial growth. Various macroeconomic, environmental, and financial factors influence oil price fluctuations. The goal of this project is to develop a predictive model using relevant features to estimate future oil prices in China.  \n",
    "\n",
    "### Business Objective  \n",
    "- **Goal:** Accurately predict the price of oil in China based on economic, financial, and environmental indicators.  \n",
    "- **Stakeholders:** Oil companies, investors, policymakers, economists, and energy sector businesses.  \n",
    "- **Impact:**  \n",
    "  - Helps businesses optimize procurement and investment decisions.  \n",
    "  - Assists policymakers in managing energy policies and price stability.  \n",
    "  - Supports financial institutions in assessing risks and making informed trading decisions.  \n",
    "\n",
    "---\n",
    "\n",
    "### Feature Justification  \n",
    "\n",
    "| Feature | Description | Relevance to Oil Price Prediction |\n",
    "|---------|------------|----------------------------------|\n",
    "| **Date** | The timestamp of the data entry. | Helps capture trends, seasonality, and historical patterns. |\n",
    "| **Indice des actions (Stock Index)** | A measure of stock market performance. | Reflects economic health, investor sentiment, and demand for commodities like oil. |\n",
    "| **Température (Temperature)** | The average temperature in China. | Cold weather increases oil demand for heating, while hot weather affects electricity and transportation needs. |\n",
    "| **Émission CO2 (CO2 Emissions)** | The total CO2 emissions from industrial and transportation activities. | High emissions indicate high energy consumption, which may correlate with oil demand. |\n",
    "| **Émission CO2.1 (CO2 Emissions - Alternative Measurement)** | Possibly a different source or method of calculating CO2 emissions. | Provides additional validation of energy consumption trends. |\n",
    "| **Chinese Yuan to US $ (Exchange Rate)** | The exchange rate between the Chinese Yuan (CNY) and the US Dollar (USD). | Affects the cost of importing oil, as oil is priced in USD. A weaker yuan makes oil more expensive in China. |\n",
    "| **Taux d'intérêt (Interest Rate)** | The benchmark interest rate set by the central bank. | Higher interest rates slow economic growth and reduce oil demand, while lower rates encourage borrowing and industrial expansion. |\n",
    "| **Prix du pétrole (Oil Price)** | The dependent variable (target) we aim to predict. | Historical oil prices help in trend analysis and forecasting. |\n",
    "\n",
    "---\n",
    "\n",
    "### Challenges & Considerations\n",
    "1. **Data Quality & Availability:** Ensuring that all features are consistently recorded and free from missing values or errors.  \n",
    "2. **Seasonality & External Shocks:** Unexpected events like global crises, geopolitical tensions, or extreme weather can impact oil prices.  \n",
    "3. **Feature Correlation:** Some variables (e.g., CO2 emissions and temperature) may have complex relationships that need careful modeling.  \n",
    "4. **Economic Policies & Regulations:** Government interventions, such as subsidies or trade restrictions, can influence oil prices independently of the listed features.  \n",
    "\n",
    "---\n",
    "\n",
    "### Conclusion\n",
    "By leveraging these macroeconomic, financial, and environmental indicators, we aim to build a robust model that provides accurate and actionable oil price predictions for China. This will enable stakeholders to make data-driven decisions in a volatile energy market. 🚀\n"
   ]
  },
  {
   "cell_type": "markdown",
   "id": "e04642eb-151c-48d2-92ed-730693b669a7",
   "metadata": {},
   "source": [
    "# Data Understanding"
   ]
  },
  {
   "cell_type": "code",
   "execution_count": 11,
   "id": "2fb46c99-5b49-4a2f-9aa7-0fa740ae8a78",
   "metadata": {},
   "outputs": [],
   "source": [
    "# sheet name = 0 to choose the chinese data\n",
    "df = pd.read_excel('Données.xlsx',sheet_name=0 )"
   ]
  },
  {
   "cell_type": "code",
   "execution_count": 3,
   "id": "1980e6b8-a9ae-47da-8b37-339673920f95",
   "metadata": {},
   "outputs": [
    {
     "data": {
      "text/html": [
       "<div>\n",
       "<style scoped>\n",
       "    .dataframe tbody tr th:only-of-type {\n",
       "        vertical-align: middle;\n",
       "    }\n",
       "\n",
       "    .dataframe tbody tr th {\n",
       "        vertical-align: top;\n",
       "    }\n",
       "\n",
       "    .dataframe thead th {\n",
       "        text-align: right;\n",
       "    }\n",
       "</style>\n",
       "<table border=\"1\" class=\"dataframe\">\n",
       "  <thead>\n",
       "    <tr style=\"text-align: right;\">\n",
       "      <th></th>\n",
       "      <th>date</th>\n",
       "      <th>Indice des actions</th>\n",
       "      <th>Température</th>\n",
       "      <th>Emission CO2</th>\n",
       "      <th>Emission CO2.1</th>\n",
       "      <th>Chinese Yuan to US $</th>\n",
       "      <th>Taux d'intérêt</th>\n",
       "      <th>Prix du pétrole</th>\n",
       "    </tr>\n",
       "  </thead>\n",
       "  <tbody>\n",
       "    <tr>\n",
       "      <th>0</th>\n",
       "      <td>date</td>\n",
       "      <td>PCH</td>\n",
       "      <td>TCH</td>\n",
       "      <td>CO2CH exprimés en Millions</td>\n",
       "      <td>CO2CH</td>\n",
       "      <td>CHUS</td>\n",
       "      <td>ICH</td>\n",
       "      <td>Oil</td>\n",
       "    </tr>\n",
       "    <tr>\n",
       "      <th>1</th>\n",
       "      <td>2019-01-01 00:00:00</td>\n",
       "      <td>2611.38</td>\n",
       "      <td>2.79</td>\n",
       "      <td>32.344424</td>\n",
       "      <td>32344423.8</td>\n",
       "      <td>6.8785</td>\n",
       "      <td>3.273</td>\n",
       "      <td>50.57</td>\n",
       "    </tr>\n",
       "    <tr>\n",
       "      <th>2</th>\n",
       "      <td>2019-01-02 00:00:00</td>\n",
       "      <td>2581.37</td>\n",
       "      <td>3.23</td>\n",
       "      <td>31.791466</td>\n",
       "      <td>31791466.3</td>\n",
       "      <td>6.862</td>\n",
       "      <td>3.203</td>\n",
       "      <td>54.06</td>\n",
       "    </tr>\n",
       "    <tr>\n",
       "      <th>3</th>\n",
       "      <td>2019-01-03 00:00:00</td>\n",
       "      <td>2580.43</td>\n",
       "      <td>6.2</td>\n",
       "      <td>30.711864</td>\n",
       "      <td>30711863.9</td>\n",
       "      <td>6.87205</td>\n",
       "      <td>3.191</td>\n",
       "      <td>53.23</td>\n",
       "    </tr>\n",
       "    <tr>\n",
       "      <th>4</th>\n",
       "      <td>2019-01-04 00:00:00</td>\n",
       "      <td>2633.35</td>\n",
       "      <td>8.87</td>\n",
       "      <td>31.512141</td>\n",
       "      <td>31512141</td>\n",
       "      <td>6.8692</td>\n",
       "      <td>3.198</td>\n",
       "      <td>55.64</td>\n",
       "    </tr>\n",
       "  </tbody>\n",
       "</table>\n",
       "</div>"
      ],
      "text/plain": [
       "                  date Indice des actions Température  \\\n",
       "0                 date                PCH         TCH   \n",
       "1  2019-01-01 00:00:00            2611.38        2.79   \n",
       "2  2019-01-02 00:00:00            2581.37        3.23   \n",
       "3  2019-01-03 00:00:00            2580.43         6.2   \n",
       "4  2019-01-04 00:00:00            2633.35        8.87   \n",
       "\n",
       "                 Emission CO2 Emission CO2.1 Chinese Yuan to US $  \\\n",
       "0  CO2CH exprimés en Millions         CO2CH                  CHUS   \n",
       "1                   32.344424     32344423.8               6.8785   \n",
       "2                   31.791466     31791466.3                6.862   \n",
       "3                   30.711864     30711863.9              6.87205   \n",
       "4                   31.512141       31512141               6.8692   \n",
       "\n",
       "  Taux d'intérêt Prix du pétrole  \n",
       "0            ICH             Oil  \n",
       "1          3.273           50.57  \n",
       "2          3.203           54.06  \n",
       "3          3.191           53.23  \n",
       "4          3.198           55.64  "
      ]
     },
     "execution_count": 3,
     "metadata": {},
     "output_type": "execute_result"
    }
   ],
   "source": [
    "df.head()"
   ]
  },
  {
   "cell_type": "code",
   "execution_count": 8,
   "id": "a1207ec6-5b35-418f-a748-f53eb8ccb1e6",
   "metadata": {},
   "outputs": [
    {
     "data": {
      "text/plain": [
       "date                    object\n",
       "Indice des actions      object\n",
       "Température             object\n",
       "Emission CO2            object\n",
       "Emission CO2.1          object\n",
       "Chinese Yuan to US $    object\n",
       "Taux d'intérêt          object\n",
       "Prix du pétrole         object\n",
       "dtype: object"
      ]
     },
     "execution_count": 8,
     "metadata": {},
     "output_type": "execute_result"
    }
   ],
   "source": [
    "# check the features types\n",
    "df.dtypes"
   ]
  },
  {
   "cell_type": "code",
   "execution_count": 9,
   "id": "270a40de-63de-4a54-9d3b-5074158eee43",
   "metadata": {},
   "outputs": [
    {
     "data": {
      "text/plain": [
       "date                    0\n",
       "Indice des actions      0\n",
       "Température             0\n",
       "Emission CO2            0\n",
       "Emission CO2.1          0\n",
       "Chinese Yuan to US $    0\n",
       "Taux d'intérêt          0\n",
       "Prix du pétrole         0\n",
       "dtype: int64"
      ]
     },
     "execution_count": 9,
     "metadata": {},
     "output_type": "execute_result"
    }
   ],
   "source": [
    "# check for null values\n",
    "df.isnull().sum().sort_values(ascending = False)"
   ]
  },
  {
   "cell_type": "markdown",
   "id": "8fb502b6-3001-40e2-b1a3-3a767083bdf4",
   "metadata": {},
   "source": [
    "## Notes\n",
    "* **drop the first row**\n",
    "* **we need to change the types of this columuns `[Indice des actions, Température, Emission CO2, Chinese Yuan to US, Chinese Yuan to US $, Taux d'intérêt, Prix du pétrole]` to `float`**\n",
    "* **choose to drop one feature between `Emission CO2` and `Emission CO2.1 ` to avoid repetition**"
   ]
  },
  {
   "cell_type": "markdown",
   "id": "65593396-5d2e-4e6c-906f-7132d6b2e3eb",
   "metadata": {},
   "source": [
    "# Data Cleaning"
   ]
  },
  {
   "cell_type": "markdown",
   "id": "b1275855-f430-47d6-83eb-98670659ed12",
   "metadata": {},
   "source": [
    "* drop the first row"
   ]
  },
  {
   "cell_type": "code",
   "execution_count": 13,
   "id": "458d70da-b492-49a6-bd1b-4d278ec41988",
   "metadata": {},
   "outputs": [],
   "source": [
    "df.drop(0, inplace=True)"
   ]
  },
  {
   "cell_type": "code",
   "execution_count": 14,
   "id": "0e5469c8-acb4-4d58-8d5e-bb960918e928",
   "metadata": {},
   "outputs": [
    {
     "data": {
      "text/html": [
       "<div>\n",
       "<style scoped>\n",
       "    .dataframe tbody tr th:only-of-type {\n",
       "        vertical-align: middle;\n",
       "    }\n",
       "\n",
       "    .dataframe tbody tr th {\n",
       "        vertical-align: top;\n",
       "    }\n",
       "\n",
       "    .dataframe thead th {\n",
       "        text-align: right;\n",
       "    }\n",
       "</style>\n",
       "<table border=\"1\" class=\"dataframe\">\n",
       "  <thead>\n",
       "    <tr style=\"text-align: right;\">\n",
       "      <th></th>\n",
       "      <th>date</th>\n",
       "      <th>Indice des actions</th>\n",
       "      <th>Température</th>\n",
       "      <th>Emission CO2</th>\n",
       "      <th>Emission CO2.1</th>\n",
       "      <th>Chinese Yuan to US $</th>\n",
       "      <th>Taux d'intérêt</th>\n",
       "      <th>Prix du pétrole</th>\n",
       "    </tr>\n",
       "  </thead>\n",
       "  <tbody>\n",
       "    <tr>\n",
       "      <th>1</th>\n",
       "      <td>2019-01-01 00:00:00</td>\n",
       "      <td>2611.38</td>\n",
       "      <td>2.79</td>\n",
       "      <td>32.344424</td>\n",
       "      <td>32344423.8</td>\n",
       "      <td>6.8785</td>\n",
       "      <td>3.273</td>\n",
       "      <td>50.57</td>\n",
       "    </tr>\n",
       "    <tr>\n",
       "      <th>2</th>\n",
       "      <td>2019-01-02 00:00:00</td>\n",
       "      <td>2581.37</td>\n",
       "      <td>3.23</td>\n",
       "      <td>31.791466</td>\n",
       "      <td>31791466.3</td>\n",
       "      <td>6.862</td>\n",
       "      <td>3.203</td>\n",
       "      <td>54.06</td>\n",
       "    </tr>\n",
       "    <tr>\n",
       "      <th>3</th>\n",
       "      <td>2019-01-03 00:00:00</td>\n",
       "      <td>2580.43</td>\n",
       "      <td>6.2</td>\n",
       "      <td>30.711864</td>\n",
       "      <td>30711863.9</td>\n",
       "      <td>6.87205</td>\n",
       "      <td>3.191</td>\n",
       "      <td>53.23</td>\n",
       "    </tr>\n",
       "    <tr>\n",
       "      <th>4</th>\n",
       "      <td>2019-01-04 00:00:00</td>\n",
       "      <td>2633.35</td>\n",
       "      <td>8.87</td>\n",
       "      <td>31.512141</td>\n",
       "      <td>31512141</td>\n",
       "      <td>6.8692</td>\n",
       "      <td>3.198</td>\n",
       "      <td>55.64</td>\n",
       "    </tr>\n",
       "    <tr>\n",
       "      <th>5</th>\n",
       "      <td>2019-01-07 00:00:00</td>\n",
       "      <td>2652.396</td>\n",
       "      <td>6.64</td>\n",
       "      <td>31.356248</td>\n",
       "      <td>31356248.3</td>\n",
       "      <td>6.851</td>\n",
       "      <td>3.169</td>\n",
       "      <td>57.1</td>\n",
       "    </tr>\n",
       "  </tbody>\n",
       "</table>\n",
       "</div>"
      ],
      "text/plain": [
       "                  date Indice des actions Température Emission CO2  \\\n",
       "1  2019-01-01 00:00:00            2611.38        2.79    32.344424   \n",
       "2  2019-01-02 00:00:00            2581.37        3.23    31.791466   \n",
       "3  2019-01-03 00:00:00            2580.43         6.2    30.711864   \n",
       "4  2019-01-04 00:00:00            2633.35        8.87    31.512141   \n",
       "5  2019-01-07 00:00:00           2652.396        6.64    31.356248   \n",
       "\n",
       "  Emission CO2.1 Chinese Yuan to US $ Taux d'intérêt Prix du pétrole  \n",
       "1     32344423.8               6.8785          3.273           50.57  \n",
       "2     31791466.3                6.862          3.203           54.06  \n",
       "3     30711863.9              6.87205          3.191           53.23  \n",
       "4       31512141               6.8692          3.198           55.64  \n",
       "5     31356248.3                6.851          3.169            57.1  "
      ]
     },
     "execution_count": 14,
     "metadata": {},
     "output_type": "execute_result"
    }
   ],
   "source": [
    "df.head()"
   ]
  },
  {
   "cell_type": "markdown",
   "id": "03d90689-f2bf-4503-806d-01449531c0d6",
   "metadata": {},
   "source": [
    "* change the types of the columuns"
   ]
  },
  {
   "cell_type": "code",
   "execution_count": 18,
   "id": "7702ea39-7696-4d19-bd78-fc69f875bfe3",
   "metadata": {},
   "outputs": [],
   "source": [
    "# columuns = [Indice des actions, Température, Emission CO2, Chinese Yuan to US, Chinese Yuan to US $, Taux d'intérêt, Prix du pétrole]\n",
    "columns = df.columns[1:]"
   ]
  },
  {
   "cell_type": "code",
   "execution_count": 22,
   "id": "56cbaf03-5c7d-42a4-981c-29fa5b989329",
   "metadata": {},
   "outputs": [],
   "source": [
    "for c in columns:\n",
    "    df[c] = df[c].astype(float)"
   ]
  },
  {
   "cell_type": "code",
   "execution_count": 23,
   "id": "7fda3b96-69c9-4149-bf2f-2e2e15105d73",
   "metadata": {},
   "outputs": [
    {
     "data": {
      "text/plain": [
       "date                     object\n",
       "Indice des actions      float64\n",
       "Température             float64\n",
       "Emission CO2            float64\n",
       "Emission CO2.1          float64\n",
       "Chinese Yuan to US $    float64\n",
       "Taux d'intérêt          float64\n",
       "Prix du pétrole         float64\n",
       "dtype: object"
      ]
     },
     "execution_count": 23,
     "metadata": {},
     "output_type": "execute_result"
    }
   ],
   "source": [
    "df.dtypes"
   ]
  },
  {
   "cell_type": "code",
   "execution_count": null,
   "id": "0b83bbd0-c263-4dcc-8451-7131a94e970d",
   "metadata": {},
   "outputs": [],
   "source": []
  }
 ],
 "metadata": {
  "kernelspec": {
   "display_name": "Python 3 (ipykernel)",
   "language": "python",
   "name": "python3"
  },
  "language_info": {
   "codemirror_mode": {
    "name": "ipython",
    "version": 3
   },
   "file_extension": ".py",
   "mimetype": "text/x-python",
   "name": "python",
   "nbconvert_exporter": "python",
   "pygments_lexer": "ipython3",
   "version": "3.12.3"
  }
 },
 "nbformat": 4,
 "nbformat_minor": 5
}
