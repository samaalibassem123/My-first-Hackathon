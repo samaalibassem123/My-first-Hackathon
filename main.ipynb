{
 "cells": [
  {
   "cell_type": "code",
   "execution_count": 1,
   "id": "b93294b8-afea-49fa-8694-25b2194102a5",
   "metadata": {},
   "outputs": [],
   "source": [
    "import pandas as pd\n",
    "import numpy as np\n",
    "import matplotlib.pyplot as plt\n",
    "from sklearn.model_selection import train_test_split"
   ]
  },
  {
   "cell_type": "markdown",
   "id": "e04642eb-151c-48d2-92ed-730693b669a7",
   "metadata": {},
   "source": [
    "# Data Understanding"
   ]
  },
  {
   "cell_type": "code",
   "execution_count": 7,
   "id": "2fb46c99-5b49-4a2f-9aa7-0fa740ae8a78",
   "metadata": {},
   "outputs": [],
   "source": [
    "# sheet name = 0 to choose the chines data\n",
    "df = pd.read_excel('Données.xlsx',sheet_name=0 )"
   ]
  },
  {
   "cell_type": "code",
   "execution_count": 3,
   "id": "1980e6b8-a9ae-47da-8b37-339673920f95",
   "metadata": {},
   "outputs": [
    {
     "data": {
      "text/html": [
       "<div>\n",
       "<style scoped>\n",
       "    .dataframe tbody tr th:only-of-type {\n",
       "        vertical-align: middle;\n",
       "    }\n",
       "\n",
       "    .dataframe tbody tr th {\n",
       "        vertical-align: top;\n",
       "    }\n",
       "\n",
       "    .dataframe thead th {\n",
       "        text-align: right;\n",
       "    }\n",
       "</style>\n",
       "<table border=\"1\" class=\"dataframe\">\n",
       "  <thead>\n",
       "    <tr style=\"text-align: right;\">\n",
       "      <th></th>\n",
       "      <th>date</th>\n",
       "      <th>Indice des actions</th>\n",
       "      <th>Température</th>\n",
       "      <th>Emission CO2</th>\n",
       "      <th>Emission CO2.1</th>\n",
       "      <th>Chinese Yuan to US $</th>\n",
       "      <th>Taux d'intérêt</th>\n",
       "      <th>Prix du pétrole</th>\n",
       "    </tr>\n",
       "  </thead>\n",
       "  <tbody>\n",
       "    <tr>\n",
       "      <th>0</th>\n",
       "      <td>date</td>\n",
       "      <td>PCH</td>\n",
       "      <td>TCH</td>\n",
       "      <td>CO2CH exprimés en Millions</td>\n",
       "      <td>CO2CH</td>\n",
       "      <td>CHUS</td>\n",
       "      <td>ICH</td>\n",
       "      <td>Oil</td>\n",
       "    </tr>\n",
       "    <tr>\n",
       "      <th>1</th>\n",
       "      <td>2019-01-01 00:00:00</td>\n",
       "      <td>2611.38</td>\n",
       "      <td>2.79</td>\n",
       "      <td>32.344424</td>\n",
       "      <td>32344423.8</td>\n",
       "      <td>6.8785</td>\n",
       "      <td>3.273</td>\n",
       "      <td>50.57</td>\n",
       "    </tr>\n",
       "    <tr>\n",
       "      <th>2</th>\n",
       "      <td>2019-01-02 00:00:00</td>\n",
       "      <td>2581.37</td>\n",
       "      <td>3.23</td>\n",
       "      <td>31.791466</td>\n",
       "      <td>31791466.3</td>\n",
       "      <td>6.862</td>\n",
       "      <td>3.203</td>\n",
       "      <td>54.06</td>\n",
       "    </tr>\n",
       "    <tr>\n",
       "      <th>3</th>\n",
       "      <td>2019-01-03 00:00:00</td>\n",
       "      <td>2580.43</td>\n",
       "      <td>6.2</td>\n",
       "      <td>30.711864</td>\n",
       "      <td>30711863.9</td>\n",
       "      <td>6.87205</td>\n",
       "      <td>3.191</td>\n",
       "      <td>53.23</td>\n",
       "    </tr>\n",
       "    <tr>\n",
       "      <th>4</th>\n",
       "      <td>2019-01-04 00:00:00</td>\n",
       "      <td>2633.35</td>\n",
       "      <td>8.87</td>\n",
       "      <td>31.512141</td>\n",
       "      <td>31512141</td>\n",
       "      <td>6.8692</td>\n",
       "      <td>3.198</td>\n",
       "      <td>55.64</td>\n",
       "    </tr>\n",
       "  </tbody>\n",
       "</table>\n",
       "</div>"
      ],
      "text/plain": [
       "                  date Indice des actions Température  \\\n",
       "0                 date                PCH         TCH   \n",
       "1  2019-01-01 00:00:00            2611.38        2.79   \n",
       "2  2019-01-02 00:00:00            2581.37        3.23   \n",
       "3  2019-01-03 00:00:00            2580.43         6.2   \n",
       "4  2019-01-04 00:00:00            2633.35        8.87   \n",
       "\n",
       "                 Emission CO2 Emission CO2.1 Chinese Yuan to US $  \\\n",
       "0  CO2CH exprimés en Millions         CO2CH                  CHUS   \n",
       "1                   32.344424     32344423.8               6.8785   \n",
       "2                   31.791466     31791466.3                6.862   \n",
       "3                   30.711864     30711863.9              6.87205   \n",
       "4                   31.512141       31512141               6.8692   \n",
       "\n",
       "  Taux d'intérêt Prix du pétrole  \n",
       "0            ICH             Oil  \n",
       "1          3.273           50.57  \n",
       "2          3.203           54.06  \n",
       "3          3.191           53.23  \n",
       "4          3.198           55.64  "
      ]
     },
     "execution_count": 3,
     "metadata": {},
     "output_type": "execute_result"
    }
   ],
   "source": [
    "df.head()"
   ]
  },
  {
   "cell_type": "code",
   "execution_count": 8,
   "id": "a1207ec6-5b35-418f-a748-f53eb8ccb1e6",
   "metadata": {},
   "outputs": [
    {
     "data": {
      "text/plain": [
       "date                    object\n",
       "Indice des actions      object\n",
       "Température             object\n",
       "Emission CO2            object\n",
       "Emission CO2.1          object\n",
       "Chinese Yuan to US $    object\n",
       "Taux d'intérêt          object\n",
       "Prix du pétrole         object\n",
       "dtype: object"
      ]
     },
     "execution_count": 8,
     "metadata": {},
     "output_type": "execute_result"
    }
   ],
   "source": [
    "# check the features types\n",
    "df.dtypes"
   ]
  },
  {
   "cell_type": "code",
   "execution_count": 9,
   "id": "270a40de-63de-4a54-9d3b-5074158eee43",
   "metadata": {},
   "outputs": [
    {
     "data": {
      "text/plain": [
       "date                    0\n",
       "Indice des actions      0\n",
       "Température             0\n",
       "Emission CO2            0\n",
       "Emission CO2.1          0\n",
       "Chinese Yuan to US $    0\n",
       "Taux d'intérêt          0\n",
       "Prix du pétrole         0\n",
       "dtype: int64"
      ]
     },
     "execution_count": 9,
     "metadata": {},
     "output_type": "execute_result"
    }
   ],
   "source": [
    "# check for null values\n",
    "df.isnull().sum().sort_values(ascending = False)"
   ]
  },
  {
   "cell_type": "markdown",
   "id": "8fb502b6-3001-40e2-b1a3-3a767083bdf4",
   "metadata": {},
   "source": [
    "## Notes\n",
    "* **drop the first row**\n",
    "* **we need to change the types of this columuns `[Indice des actions, Température, Emission CO2, Chinese Yuan to US, Chinese Yuan to US $, Taux d'intérêt, Prix du pétrole]` to `float`**\n",
    "* **choose to drop one feature between `Emission CO2` and `Emission CO2.1 ` to avoid repetition**"
   ]
  },
  {
   "cell_type": "code",
   "execution_count": null,
   "id": "ba4a9e49-69e6-48b9-8967-b4e01f0c5b49",
   "metadata": {},
   "outputs": [],
   "source": []
  }
 ],
 "metadata": {
  "kernelspec": {
   "display_name": "Python 3 (ipykernel)",
   "language": "python",
   "name": "python3"
  },
  "language_info": {
   "codemirror_mode": {
    "name": "ipython",
    "version": 3
   },
   "file_extension": ".py",
   "mimetype": "text/x-python",
   "name": "python",
   "nbconvert_exporter": "python",
   "pygments_lexer": "ipython3",
   "version": "3.12.3"
  }
 },
 "nbformat": 4,
 "nbformat_minor": 5
}
